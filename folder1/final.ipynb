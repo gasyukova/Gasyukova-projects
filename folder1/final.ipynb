{
 "cells": [
  {
   "cell_type": "code",
   "execution_count": 1,
   "id": "01fa24fe",
   "metadata": {},
   "outputs": [],
   "source": [
    "import pandas as pd\n",
    "import numpy as np\n",
    "from datetime import datetime, timedelta\n",
    "import datetime as dt\n",
    "\n",
    "from matplotlib import pyplot as plt\n",
    "from datetime import timedelta\n"
   ]
  },
  {
   "cell_type": "code",
   "execution_count": 2,
   "id": "6c9f10e1",
   "metadata": {},
   "outputs": [],
   "source": [
    "mobile_dataset = pd.read_csv('mobile_dataset.csv')"
   ]
  },
  {
   "cell_type": "code",
   "execution_count": 3,
   "id": "e644dcc2",
   "metadata": {},
   "outputs": [
    {
     "data": {
      "text/html": [
       "<div>\n",
       "<style scoped>\n",
       "    .dataframe tbody tr th:only-of-type {\n",
       "        vertical-align: middle;\n",
       "    }\n",
       "\n",
       "    .dataframe tbody tr th {\n",
       "        vertical-align: top;\n",
       "    }\n",
       "\n",
       "    .dataframe thead th {\n",
       "        text-align: right;\n",
       "    }\n",
       "</style>\n",
       "<table border=\"1\" class=\"dataframe\">\n",
       "  <thead>\n",
       "    <tr style=\"text-align: right;\">\n",
       "      <th></th>\n",
       "      <th>event_time</th>\n",
       "      <th>event_name</th>\n",
       "      <th>user_id</th>\n",
       "    </tr>\n",
       "  </thead>\n",
       "  <tbody>\n",
       "    <tr>\n",
       "      <th>0</th>\n",
       "      <td>2019-10-07 00:00:00.431357</td>\n",
       "      <td>advert_open</td>\n",
       "      <td>020292ab-89bc-4156-9acf-68bc2783f894</td>\n",
       "    </tr>\n",
       "  </tbody>\n",
       "</table>\n",
       "</div>"
      ],
      "text/plain": [
       "                   event_time   event_name  \\\n",
       "0  2019-10-07 00:00:00.431357  advert_open   \n",
       "\n",
       "                                user_id  \n",
       "0  020292ab-89bc-4156-9acf-68bc2783f894  "
      ]
     },
     "execution_count": 3,
     "metadata": {},
     "output_type": "execute_result"
    }
   ],
   "source": [
    "mobile_dataset = mobile_dataset.rename(columns = {'event.time':'event_time', 'event.name': 'event_name', 'user.id':'user_id'})\n",
    "mobile_dataset.head(1)"
   ]
  },
  {
   "cell_type": "code",
   "execution_count": 4,
   "id": "78b65ef1",
   "metadata": {},
   "outputs": [],
   "source": [
    "mobile_dataset['event_time'] = pd.to_datetime(mobile_dataset['event_time'])\n",
    "mobile_dataset['event_time']  = mobile_dataset['event_time'].dt.floor('1S')"
   ]
  },
  {
   "cell_type": "code",
   "execution_count": 5,
   "id": "5da5b230",
   "metadata": {},
   "outputs": [],
   "source": [
    "def my_recode(name):\n",
    "    if 'search' in name:\n",
    "        return 'search'\n",
    "    else:\n",
    "        return name"
   ]
  },
  {
   "cell_type": "code",
   "execution_count": 6,
   "id": "bbd4c1e0",
   "metadata": {},
   "outputs": [
    {
     "data": {
      "text/plain": [
       "tips_show        40055\n",
       "photos_show      10012\n",
       "search            6784\n",
       "advert_open       6164\n",
       "contacts_show     4450\n",
       "map               3881\n",
       "favorites_add     1417\n",
       "tips_click         814\n",
       "contacts_call      541\n",
       "show_contacts       79\n",
       "Name: event_name, dtype: int64"
      ]
     },
     "execution_count": 6,
     "metadata": {},
     "output_type": "execute_result"
    }
   ],
   "source": [
    "mobile_dataset['event_name'] = mobile_dataset['event_name'].apply(my_recode)\n",
    "mobile_dataset['event_name'].value_counts()"
   ]
  },
  {
   "cell_type": "code",
   "execution_count": 7,
   "id": "a70c76b2",
   "metadata": {},
   "outputs": [],
   "source": [
    "def my_recode2(name):\n",
    "    if 'contact' in name:\n",
    "        return 'contacts_show'\n",
    "    else:\n",
    "        return name"
   ]
  },
  {
   "cell_type": "code",
   "execution_count": 8,
   "id": "b5fbfd55",
   "metadata": {},
   "outputs": [
    {
     "data": {
      "text/plain": [
       "tips_show        40055\n",
       "photos_show      10012\n",
       "search            6784\n",
       "advert_open       6164\n",
       "contacts_show     5070\n",
       "map               3881\n",
       "favorites_add     1417\n",
       "tips_click         814\n",
       "Name: event_name, dtype: int64"
      ]
     },
     "execution_count": 8,
     "metadata": {},
     "output_type": "execute_result"
    }
   ],
   "source": [
    "mobile_dataset['event_name'] = mobile_dataset['event_name'].apply(my_recode2)\n",
    "mobile_dataset['event_name'].value_counts()"
   ]
  },
  {
   "cell_type": "code",
   "execution_count": 14,
   "id": "02a1d2be",
   "metadata": {},
   "outputs": [],
   "source": [
    "mobile_sources = pd.read_csv('mobile_soures.csv')\n"
   ]
  },
  {
   "cell_type": "code",
   "execution_count": 15,
   "id": "4640cf61",
   "metadata": {},
   "outputs": [],
   "source": [
    "mobile_sources = mobile_sources.rename(columns = {'userId':'user_id'})"
   ]
  },
  {
   "cell_type": "code",
   "execution_count": 16,
   "id": "a95619cf",
   "metadata": {},
   "outputs": [],
   "source": [
    "data = mobile_dataset.merge(mobile_sources, on='user_id')"
   ]
  },
  {
   "cell_type": "code",
   "execution_count": 17,
   "id": "31b650df",
   "metadata": {},
   "outputs": [
    {
     "data": {
      "text/plain": [
       "0"
      ]
     },
     "execution_count": 17,
     "metadata": {},
     "output_type": "execute_result"
    }
   ],
   "source": [
    "# удалим дубликаты\n",
    "data = data.drop_duplicates()\n",
    "data.duplicated().sum()"
   ]
  },
  {
   "cell_type": "code",
   "execution_count": 18,
   "id": "33c93380",
   "metadata": {},
   "outputs": [],
   "source": [
    "#identify difference 60Min for each group with cumulative sum\n",
    "g = (data.groupby('user_id')['event_time'].diff() > pd.Timedelta('60Min')).cumsum()\n",
    "g\n",
    "data['session_id'] = data.groupby(['user_id', g], sort=False).ngroup() + 1"
   ]
  },
  {
   "cell_type": "code",
   "execution_count": 19,
   "id": "5e21ef18",
   "metadata": {},
   "outputs": [
    {
     "data": {
      "text/plain": [
       "9573"
      ]
     },
     "execution_count": 19,
     "metadata": {},
     "output_type": "execute_result"
    }
   ],
   "source": [
    "data['session_id'].nunique()"
   ]
  },
  {
   "cell_type": "code",
   "execution_count": 20,
   "id": "f54c4a6f",
   "metadata": {},
   "outputs": [],
   "source": [
    "data.to_csv(r'/home/shinshilla/Documents/data_final.csv', index = False) "
   ]
  },
  {
   "cell_type": "code",
   "execution_count": 22,
   "id": "9b61743c",
   "metadata": {},
   "outputs": [
    {
     "data": {
      "text/plain": [
       "4293"
      ]
     },
     "execution_count": 22,
     "metadata": {},
     "output_type": "execute_result"
    }
   ],
   "source": [
    "data['user_id'].nunique()"
   ]
  },
  {
   "cell_type": "code",
   "execution_count": 23,
   "id": "76810431",
   "metadata": {},
   "outputs": [
    {
     "data": {
      "text/plain": [
       "Timestamp('2019-11-03 23:58:12')"
      ]
     },
     "execution_count": 23,
     "metadata": {},
     "output_type": "execute_result"
    }
   ],
   "source": [
    "mobile_dataset['event_time'].max()"
   ]
  },
  {
   "cell_type": "code",
   "execution_count": null,
   "id": "c65ac57b",
   "metadata": {},
   "outputs": [],
   "source": []
  }
 ],
 "metadata": {
  "kernelspec": {
   "display_name": "Python 3 (ipykernel)",
   "language": "python",
   "name": "python3"
  },
  "language_info": {
   "codemirror_mode": {
    "name": "ipython",
    "version": 3
   },
   "file_extension": ".py",
   "mimetype": "text/x-python",
   "name": "python",
   "nbconvert_exporter": "python",
   "pygments_lexer": "ipython3",
   "version": "3.8.10"
  }
 },
 "nbformat": 4,
 "nbformat_minor": 5
}
