{
 "cells": [
  {
   "cell_type": "markdown",
   "id": "c02b2d0a",
   "metadata": {},
   "source": [
    "**Анализ изучения возможностей увеличения выручки в интернет-магазине**\n",
    "\n",
    "Данный анализ строится на проверке гипотез и равенстве выручек и конверсии в зависимости от принадлежности покупателей к разным группам. \n",
    "\n",
    "Проведена приоритизация гипотез по фреймворкам ICE и RICE. Осуществлен анализ результатов A/B-теста, построены графики кумулятивной выручки, среднего чека, конверсии по группам, посчитана статистическая значимость различий конверсий и средних чеков по сырым и очищенным данным. На основании анализа принято решение о нецелесообразности дальнейшего проведения теста.\n",
    "\n",
    "Основные используемые библиотеки: pandas, matplotlib, scipy"
   ]
  }
 ],
 "metadata": {
  "kernelspec": {
   "display_name": "Python 3 (ipykernel)",
   "language": "python",
   "name": "python3"
  },
  "language_info": {
   "codemirror_mode": {
    "name": "ipython",
    "version": 3
   },
   "file_extension": ".py",
   "mimetype": "text/x-python",
   "name": "python",
   "nbconvert_exporter": "python",
   "pygments_lexer": "ipython3",
   "version": "3.8.10"
  },
  "toc": {
   "base_numbering": 1,
   "nav_menu": {},
   "number_sections": true,
   "sideBar": true,
   "skip_h1_title": false,
   "title_cell": "Table of Contents",
   "title_sidebar": "Contents",
   "toc_cell": false,
   "toc_position": {},
   "toc_section_display": true,
   "toc_window_display": false
  }
 },
 "nbformat": 4,
 "nbformat_minor": 5
}
